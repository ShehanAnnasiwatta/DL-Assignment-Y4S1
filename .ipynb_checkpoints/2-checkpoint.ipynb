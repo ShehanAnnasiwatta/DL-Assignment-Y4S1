{
 "cells": [
  {
   "cell_type": "code",
   "execution_count": 2,
   "id": "419345ba-0904-4287-9dc7-9e26e08654ac",
   "metadata": {},
   "outputs": [],
   "source": [
    "# Import necessary libraries\n",
    "import numpy as np\n",
    "import pandas as pd\n",
    "import matplotlib.pyplot as plt\n",
    "import tensorflow as tf\n",
    "import opendatasets as od\n",
    "import cv2"
   ]
  },
  {
   "cell_type": "code",
   "execution_count": 25,
   "id": "8f449e60-53f0-4d60-99ed-50cd0e86215a",
   "metadata": {},
   "outputs": [
    {
     "name": "stdout",
     "output_type": "stream",
     "text": [
      "Skipping, found downloaded files in \".\\gemstones-images\" (use force=True to force download)\n"
     ]
    }
   ],
   "source": [
    "# Download the dataset\n",
    "od.download(\"https://www.kaggle.com/datasets/lsind18/gemstones-images\")"
   ]
  },
  {
   "cell_type": "code",
   "execution_count": 26,
   "id": "344b60a8-daee-4ac3-b962-b70d9c7e1dfc",
   "metadata": {},
   "outputs": [],
   "source": [
    "# Define constants\n",
    "BATCH_SIZE = 32\n",
    "IMAGE_SIZE = (256, 256)"
   ]
  },
  {
   "cell_type": "code",
   "execution_count": 30,
   "id": "922a9085-710b-4ac1-9597-234e07110976",
   "metadata": {},
   "outputs": [],
   "source": [
    "# Directories for training and testing data\n",
    "train_data_dir = 'C:/Users/lasit/Desktop/Campus/4th year/1sem/DL/dl_assignment/gemstones-images/train'\n",
    "test_data_dir = 'C:/Users/lasit/Desktop/Campus/4th year/1sem/DL/dl_assignment/gemstones-images/test'\n"
   ]
  },
  {
   "cell_type": "code",
   "execution_count": 32,
   "id": "6f464f77-313b-47bb-9905-962bf12c94e3",
   "metadata": {},
   "outputs": [
    {
     "name": "stdout",
     "output_type": "stream",
     "text": [
      "Found 2856 files belonging to 87 classes.\n",
      "Using 2571 files for training.\n"
     ]
    }
   ],
   "source": [
    "# Load the datasets with validation split\n",
    "train_data = tf.keras.utils.image_dataset_from_directory(\n",
    "    train_data_dir,\n",
    "    image_size=IMAGE_SIZE,\n",
    "    batch_size=BATCH_SIZE,\n",
    "    subset='training',\n",
    "    validation_split=0.1,\n",
    "    seed=42\n",
    ")"
   ]
  },
  {
   "cell_type": "code",
   "execution_count": 34,
   "id": "8282e6eb-acf9-4c2c-b4c2-604235a1b0ea",
   "metadata": {},
   "outputs": [
    {
     "name": "stdout",
     "output_type": "stream",
     "text": [
      "Found 2856 files belonging to 87 classes.\n",
      "Using 285 files for validation.\n"
     ]
    }
   ],
   "source": [
    "validation_data = tf.keras.utils.image_dataset_from_directory(\n",
    "    train_data_dir,\n",
    "    image_size=IMAGE_SIZE,\n",
    "    batch_size=BATCH_SIZE,\n",
    "    subset='validation',\n",
    "    validation_split=0.1,\n",
    "    seed=42\n",
    ")\n"
   ]
  },
  {
   "cell_type": "code",
   "execution_count": 36,
   "id": "54fdb951-a102-402d-ad0a-a2c41ffa7b18",
   "metadata": {},
   "outputs": [
    {
     "name": "stdout",
     "output_type": "stream",
     "text": [
      "Found 363 files belonging to 87 classes.\n"
     ]
    }
   ],
   "source": [
    "test_data = tf.keras.utils.image_dataset_from_directory(\n",
    "    test_data_dir,\n",
    "    image_size=IMAGE_SIZE,\n",
    "    batch_size=BATCH_SIZE\n",
    ")"
   ]
  },
  {
   "cell_type": "code",
   "execution_count": 38,
   "id": "22d3e15b-41bc-4b90-ac7b-23eb15017201",
   "metadata": {},
   "outputs": [
    {
     "name": "stdout",
     "output_type": "stream",
     "text": [
      "Class names: ['Alexandrite', 'Almandine', 'Amazonite', 'Amber', 'Amethyst', 'Ametrine', 'Andalusite', 'Andradite', 'Aquamarine', 'Aventurine Green', 'Aventurine Yellow', 'Benitoite', 'Beryl Golden', 'Bixbite', 'Bloodstone', 'Blue Lace Agate', 'Carnelian', 'Cats Eye', 'Chalcedony', 'Chalcedony Blue', 'Chrome Diopside', 'Chrysoberyl', 'Chrysocolla', 'Chrysoprase', 'Citrine', 'Coral', 'Danburite', 'Diamond', 'Diaspore', 'Dumortierite', 'Emerald', 'Fluorite', 'Garnet Red', 'Goshenite', 'Grossular', 'Hessonite', 'Hiddenite', 'Iolite', 'Jade', 'Jasper', 'Kunzite', 'Kyanite', 'Labradorite', 'Lapis Lazuli', 'Larimar', 'Malachite', 'Moonstone', 'Morganite', 'Onyx Black', 'Onyx Green', 'Onyx Red', 'Opal', 'Pearl', 'Peridot', 'Prehnite', 'Pyrite', 'Pyrope', 'Quartz Beer', 'Quartz Lemon', 'Quartz Rose', 'Quartz Rutilated', 'Quartz Smoky', 'Rhodochrosite', 'Rhodolite', 'Rhodonite', 'Ruby', 'Sapphire Blue', 'Sapphire Pink', 'Sapphire Purple', 'Sapphire Yellow', 'Scapolite', 'Serpentine', 'Sodalite', 'Spessartite', 'Sphene', 'Spinel', 'Spodumene', 'Sunstone', 'Tanzanite', 'Tigers Eye', 'Topaz', 'Tourmaline', 'Tsavorite', 'Turquoise', 'Variscite', 'Zircon', 'Zoisite']\n"
     ]
    }
   ],
   "source": [
    "# Get class names\n",
    "class_names = train_data.class_names\n",
    "print(\"Class names:\", class_names)"
   ]
  },
  {
   "cell_type": "code",
   "execution_count": 40,
   "id": "0e9b29f7-38d9-46c1-bc8b-4b5543ab88b4",
   "metadata": {},
   "outputs": [
    {
     "name": "stdout",
     "output_type": "stream",
     "text": [
      "Train Data: <_PrefetchDataset element_spec=(TensorSpec(shape=(None, 256, 256, 3), dtype=tf.float32, name=None), TensorSpec(shape=(None,), dtype=tf.int32, name=None))>\n",
      "Validation Data: <_PrefetchDataset element_spec=(TensorSpec(shape=(None, 256, 256, 3), dtype=tf.float32, name=None), TensorSpec(shape=(None,), dtype=tf.int32, name=None))>\n"
     ]
    }
   ],
   "source": [
    "# Print dataset info\n",
    "print(\"Train Data:\", train_data)\n",
    "print(\"Validation Data:\", validation_data)"
   ]
  },
  {
   "cell_type": "code",
   "execution_count": 48,
   "id": "63ee7233-c290-44b3-bc18-c85b46a71d5a",
   "metadata": {},
   "outputs": [],
   "source": [
    "# Data Augmentation\n",
    "data_augmentation = tf.keras.Sequential([\n",
    "    tf.keras.layers.RandomFlip('horizontal_and_vertical'),\n",
    "    tf.keras.layers.RandomRotation(0.2),\n",
    "    tf.keras.layers.RandomZoom(0.2),\n",
    "    tf.keras.layers.RandomContrast(0.2),\n",
    "])"
   ]
  },
  {
   "cell_type": "code",
   "execution_count": 50,
   "id": "b4e08f26-69b6-4ee8-800e-c5ab6644a7bd",
   "metadata": {},
   "outputs": [],
   "source": [
    "# Apply augmentation to training data\n",
    "train_data = train_data.map(lambda x, y: (data_augmentation(x, training=True), y))"
   ]
  },
  {
   "cell_type": "code",
   "execution_count": 52,
   "id": "94ec3492-9b6e-4ce5-a93c-c0f298c40b71",
   "metadata": {},
   "outputs": [],
   "source": [
    "# Normalize data\n",
    "train_data = train_data.map(lambda x, y: (x / 255.0, y))\n",
    "validation_data = validation_data.map(lambda x, y: (x / 255.0, y))\n",
    "test_data = test_data.map(lambda x, y: (x / 255.0, y))"
   ]
  },
  {
   "cell_type": "code",
   "execution_count": 54,
   "id": "958e42e2-53e4-4dbe-b60b-d5ea7ecb2975",
   "metadata": {},
   "outputs": [],
   "source": [
    "# Cache and Prefetch for performance optimization\n",
    "train_data = train_data.cache().prefetch(buffer_size=tf.data.AUTOTUNE)\n",
    "validation_data = validation_data.cache().prefetch(buffer_size=tf.data.AUTOTUNE)"
   ]
  },
  {
   "cell_type": "code",
   "execution_count": 56,
   "id": "d2fd4ba0-ccc6-4fbf-877c-95274dd0c467",
   "metadata": {},
   "outputs": [],
   "source": [
    "# Create the model\n",
    "base_model = tf.keras.applications.InceptionV3(input_shape=(256, 256, 3), include_top=False, weights='imagenet', pooling='avg')\n",
    "base_model.trainable = True  # Fine-tune the model"
   ]
  },
  {
   "cell_type": "code",
   "execution_count": 58,
   "id": "439d2704-6010-4285-b8d5-a8d12688a7e8",
   "metadata": {},
   "outputs": [],
   "source": [
    "# Freeze all layers except the last 50\n",
    "for layer in base_model.layers[:-50]:\n",
    "    layer.trainable = False"
   ]
  },
  {
   "cell_type": "code",
   "execution_count": 60,
   "id": "4566b885-d120-440e-8199-f291d17c5f8e",
   "metadata": {},
   "outputs": [
    {
     "name": "stdout",
     "output_type": "stream",
     "text": [
      "Epoch 1/50\n",
      "\u001b[1m81/81\u001b[0m \u001b[32m━━━━━━━━━━━━━━━━━━━━\u001b[0m\u001b[37m\u001b[0m \u001b[1m331s\u001b[0m 4s/step - accuracy: 0.0342 - loss: 4.3917 - val_accuracy: 0.0140 - val_loss: 4.5998\n",
      "Epoch 2/50\n",
      "\u001b[1m81/81\u001b[0m \u001b[32m━━━━━━━━━━━━━━━━━━━━\u001b[0m\u001b[37m\u001b[0m \u001b[1m282s\u001b[0m 3s/step - accuracy: 0.1418 - loss: 3.8585 - val_accuracy: 0.0140 - val_loss: 5.3920\n",
      "Epoch 3/50\n",
      "\u001b[1m81/81\u001b[0m \u001b[32m━━━━━━━━━━━━━━━━━━━━\u001b[0m\u001b[37m\u001b[0m \u001b[1m280s\u001b[0m 3s/step - accuracy: 0.2542 - loss: 3.2322 - val_accuracy: 0.0105 - val_loss: 6.4201\n",
      "Epoch 4/50\n",
      "\u001b[1m81/81\u001b[0m \u001b[32m━━━━━━━━━━━━━━━━━━━━\u001b[0m\u001b[37m\u001b[0m \u001b[1m281s\u001b[0m 3s/step - accuracy: 0.3607 - loss: 2.6101 - val_accuracy: 0.0105 - val_loss: 7.1152\n",
      "Epoch 5/50\n",
      "\u001b[1m81/81\u001b[0m \u001b[32m━━━━━━━━━━━━━━━━━━━━\u001b[0m\u001b[37m\u001b[0m \u001b[1m285s\u001b[0m 4s/step - accuracy: 0.4428 - loss: 2.0942 - val_accuracy: 0.0105 - val_loss: 7.0500\n",
      "Epoch 6/50\n",
      "\u001b[1m81/81\u001b[0m \u001b[32m━━━━━━━━━━━━━━━━━━━━\u001b[0m\u001b[37m\u001b[0m \u001b[1m302s\u001b[0m 4s/step - accuracy: 0.5422 - loss: 1.6523 - val_accuracy: 0.0175 - val_loss: 7.7317\n",
      "Epoch 7/50\n",
      "\u001b[1m81/81\u001b[0m \u001b[32m━━━━━━━━━━━━━━━━━━━━\u001b[0m\u001b[37m\u001b[0m \u001b[1m280s\u001b[0m 3s/step - accuracy: 0.5939 - loss: 1.3720 - val_accuracy: 0.0175 - val_loss: 5.8633\n",
      "Epoch 8/50\n",
      "\u001b[1m81/81\u001b[0m \u001b[32m━━━━━━━━━━━━━━━━━━━━\u001b[0m\u001b[37m\u001b[0m \u001b[1m277s\u001b[0m 3s/step - accuracy: 0.6871 - loss: 1.0642 - val_accuracy: 0.0526 - val_loss: 6.7388\n",
      "Epoch 9/50\n",
      "\u001b[1m81/81\u001b[0m \u001b[32m━━━━━━━━━━━━━━━━━━━━\u001b[0m\u001b[37m\u001b[0m \u001b[1m276s\u001b[0m 3s/step - accuracy: 0.7453 - loss: 0.8759 - val_accuracy: 0.1684 - val_loss: 5.1121\n",
      "Epoch 10/50\n",
      "\u001b[1m81/81\u001b[0m \u001b[32m━━━━━━━━━━━━━━━━━━━━\u001b[0m\u001b[37m\u001b[0m \u001b[1m277s\u001b[0m 3s/step - accuracy: 0.7872 - loss: 0.7142 - val_accuracy: 0.3263 - val_loss: 3.4370\n",
      "Epoch 11/50\n",
      "\u001b[1m81/81\u001b[0m \u001b[32m━━━━━━━━━━━━━━━━━━━━\u001b[0m\u001b[37m\u001b[0m \u001b[1m288s\u001b[0m 4s/step - accuracy: 0.8067 - loss: 0.6394 - val_accuracy: 0.4982 - val_loss: 2.4358\n",
      "Epoch 12/50\n",
      "\u001b[1m81/81\u001b[0m \u001b[32m━━━━━━━━━━━━━━━━━━━━\u001b[0m\u001b[37m\u001b[0m \u001b[1m285s\u001b[0m 4s/step - accuracy: 0.8619 - loss: 0.4613 - val_accuracy: 0.5053 - val_loss: 2.6146\n",
      "Epoch 13/50\n",
      "\u001b[1m81/81\u001b[0m \u001b[32m━━━━━━━━━━━━━━━━━━━━\u001b[0m\u001b[37m\u001b[0m \u001b[1m286s\u001b[0m 4s/step - accuracy: 0.8686 - loss: 0.4537 - val_accuracy: 0.4667 - val_loss: 2.6279\n",
      "Epoch 14/50\n",
      "\u001b[1m81/81\u001b[0m \u001b[32m━━━━━━━━━━━━━━━━━━━━\u001b[0m\u001b[37m\u001b[0m \u001b[1m284s\u001b[0m 4s/step - accuracy: 0.9021 - loss: 0.3544 - val_accuracy: 0.5368 - val_loss: 2.3843\n",
      "Epoch 15/50\n",
      "\u001b[1m81/81\u001b[0m \u001b[32m━━━━━━━━━━━━━━━━━━━━\u001b[0m\u001b[37m\u001b[0m \u001b[1m283s\u001b[0m 3s/step - accuracy: 0.9146 - loss: 0.2871 - val_accuracy: 0.5158 - val_loss: 2.4562\n",
      "Epoch 16/50\n",
      "\u001b[1m81/81\u001b[0m \u001b[32m━━━━━━━━━━━━━━━━━━━━\u001b[0m\u001b[37m\u001b[0m \u001b[1m285s\u001b[0m 4s/step - accuracy: 0.9310 - loss: 0.2686 - val_accuracy: 0.5439 - val_loss: 2.3849\n",
      "Epoch 17/50\n",
      "\u001b[1m81/81\u001b[0m \u001b[32m━━━━━━━━━━━━━━━━━━━━\u001b[0m\u001b[37m\u001b[0m \u001b[1m275s\u001b[0m 3s/step - accuracy: 0.9331 - loss: 0.2622 - val_accuracy: 0.5298 - val_loss: 2.5634\n",
      "Epoch 18/50\n",
      "\u001b[1m81/81\u001b[0m \u001b[32m━━━━━━━━━━━━━━━━━━━━\u001b[0m\u001b[37m\u001b[0m \u001b[1m281s\u001b[0m 3s/step - accuracy: 0.9564 - loss: 0.1986 - val_accuracy: 0.5579 - val_loss: 2.2883\n",
      "Epoch 19/50\n",
      "\u001b[1m81/81\u001b[0m \u001b[32m━━━━━━━━━━━━━━━━━━━━\u001b[0m\u001b[37m\u001b[0m \u001b[1m280s\u001b[0m 3s/step - accuracy: 0.9472 - loss: 0.1772 - val_accuracy: 0.5474 - val_loss: 2.3221\n",
      "Epoch 20/50\n",
      "\u001b[1m81/81\u001b[0m \u001b[32m━━━━━━━━━━━━━━━━━━━━\u001b[0m\u001b[37m\u001b[0m \u001b[1m275s\u001b[0m 3s/step - accuracy: 0.9457 - loss: 0.1857 - val_accuracy: 0.4842 - val_loss: 3.0330\n",
      "Epoch 21/50\n",
      "\u001b[1m81/81\u001b[0m \u001b[32m━━━━━━━━━━━━━━━━━━━━\u001b[0m\u001b[37m\u001b[0m \u001b[1m274s\u001b[0m 3s/step - accuracy: 0.9430 - loss: 0.1838 - val_accuracy: 0.4667 - val_loss: 3.4928\n",
      "Epoch 22/50\n",
      "\u001b[1m81/81\u001b[0m \u001b[32m━━━━━━━━━━━━━━━━━━━━\u001b[0m\u001b[37m\u001b[0m \u001b[1m274s\u001b[0m 3s/step - accuracy: 0.9212 - loss: 0.2533 - val_accuracy: 0.5228 - val_loss: 2.9788\n",
      "Epoch 23/50\n",
      "\u001b[1m81/81\u001b[0m \u001b[32m━━━━━━━━━━━━━━━━━━━━\u001b[0m\u001b[37m\u001b[0m \u001b[1m274s\u001b[0m 3s/step - accuracy: 0.9244 - loss: 0.2489 - val_accuracy: 0.5193 - val_loss: 2.3607\n",
      "Epoch 24/50\n",
      "\u001b[1m81/81\u001b[0m \u001b[32m━━━━━━━━━━━━━━━━━━━━\u001b[0m\u001b[37m\u001b[0m \u001b[1m276s\u001b[0m 3s/step - accuracy: 0.9242 - loss: 0.2764 - val_accuracy: 0.5719 - val_loss: 2.3899\n",
      "Epoch 25/50\n",
      "\u001b[1m81/81\u001b[0m \u001b[32m━━━━━━━━━━━━━━━━━━━━\u001b[0m\u001b[37m\u001b[0m \u001b[1m306s\u001b[0m 4s/step - accuracy: 0.9536 - loss: 0.1341 - val_accuracy: 0.5579 - val_loss: 2.4610\n",
      "Epoch 26/50\n",
      "\u001b[1m81/81\u001b[0m \u001b[32m━━━━━━━━━━━━━━━━━━━━\u001b[0m\u001b[37m\u001b[0m \u001b[1m324s\u001b[0m 4s/step - accuracy: 0.9619 - loss: 0.1421 - val_accuracy: 0.5439 - val_loss: 2.4809\n",
      "Epoch 27/50\n",
      "\u001b[1m81/81\u001b[0m \u001b[32m━━━━━━━━━━━━━━━━━━━━\u001b[0m\u001b[37m\u001b[0m \u001b[1m316s\u001b[0m 4s/step - accuracy: 0.9745 - loss: 0.0952 - val_accuracy: 0.5509 - val_loss: 2.5258\n",
      "Epoch 28/50\n",
      "\u001b[1m81/81\u001b[0m \u001b[32m━━━━━━━━━━━━━━━━━━━━\u001b[0m\u001b[37m\u001b[0m \u001b[1m371s\u001b[0m 5s/step - accuracy: 0.9717 - loss: 0.1256 - val_accuracy: 0.5860 - val_loss: 2.3319\n",
      "Epoch 29/50\n",
      "\u001b[1m81/81\u001b[0m \u001b[32m━━━━━━━━━━━━━━━━━━━━\u001b[0m\u001b[37m\u001b[0m \u001b[1m412s\u001b[0m 5s/step - accuracy: 0.9655 - loss: 0.1394 - val_accuracy: 0.6351 - val_loss: 2.2068\n",
      "Epoch 30/50\n",
      "\u001b[1m81/81\u001b[0m \u001b[32m━━━━━━━━━━━━━━━━━━━━\u001b[0m\u001b[37m\u001b[0m \u001b[1m370s\u001b[0m 5s/step - accuracy: 0.9794 - loss: 0.0684 - val_accuracy: 0.6070 - val_loss: 2.2859\n",
      "Epoch 31/50\n",
      "\u001b[1m81/81\u001b[0m \u001b[32m━━━━━━━━━━━━━━━━━━━━\u001b[0m\u001b[37m\u001b[0m \u001b[1m277s\u001b[0m 3s/step - accuracy: 0.9863 - loss: 0.0475 - val_accuracy: 0.6070 - val_loss: 2.6988\n",
      "Epoch 32/50\n",
      "\u001b[1m81/81\u001b[0m \u001b[32m━━━━━━━━━━━━━━━━━━━━\u001b[0m\u001b[37m\u001b[0m \u001b[1m276s\u001b[0m 3s/step - accuracy: 0.9848 - loss: 0.0598 - val_accuracy: 0.5614 - val_loss: 2.8365\n",
      "Epoch 33/50\n",
      "\u001b[1m81/81\u001b[0m \u001b[32m━━━━━━━━━━━━━━━━━━━━\u001b[0m\u001b[37m\u001b[0m \u001b[1m278s\u001b[0m 3s/step - accuracy: 0.9671 - loss: 0.1591 - val_accuracy: 0.5579 - val_loss: 2.5875\n",
      "Epoch 34/50\n",
      "\u001b[1m81/81\u001b[0m \u001b[32m━━━━━━━━━━━━━━━━━━━━\u001b[0m\u001b[37m\u001b[0m \u001b[1m274s\u001b[0m 3s/step - accuracy: 0.9491 - loss: 0.1651 - val_accuracy: 0.5404 - val_loss: 2.9969\n",
      "Epoch 35/50\n",
      "\u001b[1m81/81\u001b[0m \u001b[32m━━━━━━━━━━━━━━━━━━━━\u001b[0m\u001b[37m\u001b[0m \u001b[1m285s\u001b[0m 4s/step - accuracy: 0.9494 - loss: 0.1521 - val_accuracy: 0.5439 - val_loss: 2.7457\n",
      "Epoch 36/50\n",
      "\u001b[1m81/81\u001b[0m \u001b[32m━━━━━━━━━━━━━━━━━━━━\u001b[0m\u001b[37m\u001b[0m \u001b[1m281s\u001b[0m 3s/step - accuracy: 0.9593 - loss: 0.1502 - val_accuracy: 0.5228 - val_loss: 2.7406\n",
      "Epoch 37/50\n",
      "\u001b[1m81/81\u001b[0m \u001b[32m━━━━━━━━━━━━━━━━━━━━\u001b[0m\u001b[37m\u001b[0m \u001b[1m295s\u001b[0m 4s/step - accuracy: 0.9261 - loss: 0.2669 - val_accuracy: 0.5509 - val_loss: 3.1142\n",
      "Epoch 38/50\n",
      "\u001b[1m81/81\u001b[0m \u001b[32m━━━━━━━━━━━━━━━━━━━━\u001b[0m\u001b[37m\u001b[0m \u001b[1m287s\u001b[0m 4s/step - accuracy: 0.9610 - loss: 0.1280 - val_accuracy: 0.5579 - val_loss: 2.5655\n",
      "Epoch 39/50\n",
      "\u001b[1m81/81\u001b[0m \u001b[32m━━━━━━━━━━━━━━━━━━━━\u001b[0m\u001b[37m\u001b[0m \u001b[1m285s\u001b[0m 4s/step - accuracy: 0.9710 - loss: 0.1164 - val_accuracy: 0.5965 - val_loss: 2.4909\n",
      "Epoch 40/50\n",
      "\u001b[1m81/81\u001b[0m \u001b[32m━━━━━━━━━━━━━━━━━━━━\u001b[0m\u001b[37m\u001b[0m \u001b[1m286s\u001b[0m 4s/step - accuracy: 0.9695 - loss: 0.1038 - val_accuracy: 0.5474 - val_loss: 2.6299\n",
      "Epoch 41/50\n",
      "\u001b[1m81/81\u001b[0m \u001b[32m━━━━━━━━━━━━━━━━━━━━\u001b[0m\u001b[37m\u001b[0m \u001b[1m284s\u001b[0m 4s/step - accuracy: 0.9612 - loss: 0.1332 - val_accuracy: 0.5860 - val_loss: 2.5007\n",
      "Epoch 42/50\n",
      "\u001b[1m81/81\u001b[0m \u001b[32m━━━━━━━━━━━━━━━━━━━━\u001b[0m\u001b[37m\u001b[0m \u001b[1m277s\u001b[0m 3s/step - accuracy: 0.9784 - loss: 0.0831 - val_accuracy: 0.5965 - val_loss: 2.2836\n",
      "Epoch 43/50\n",
      "\u001b[1m81/81\u001b[0m \u001b[32m━━━━━━━━━━━━━━━━━━━━\u001b[0m\u001b[37m\u001b[0m \u001b[1m285s\u001b[0m 4s/step - accuracy: 0.9900 - loss: 0.0446 - val_accuracy: 0.5614 - val_loss: 2.4188\n",
      "Epoch 44/50\n",
      "\u001b[1m81/81\u001b[0m \u001b[32m━━━━━━━━━━━━━━━━━━━━\u001b[0m\u001b[37m\u001b[0m \u001b[1m286s\u001b[0m 4s/step - accuracy: 0.9859 - loss: 0.0796 - val_accuracy: 0.6140 - val_loss: 2.3539\n",
      "Epoch 45/50\n",
      "\u001b[1m81/81\u001b[0m \u001b[32m━━━━━━━━━━━━━━━━━━━━\u001b[0m\u001b[37m\u001b[0m \u001b[1m283s\u001b[0m 3s/step - accuracy: 0.9894 - loss: 0.0416 - val_accuracy: 0.6000 - val_loss: 2.2158\n",
      "Epoch 46/50\n",
      "\u001b[1m81/81\u001b[0m \u001b[32m━━━━━━━━━━━━━━━━━━━━\u001b[0m\u001b[37m\u001b[0m \u001b[1m280s\u001b[0m 3s/step - accuracy: 0.9788 - loss: 0.0775 - val_accuracy: 0.5930 - val_loss: 2.3956\n",
      "Epoch 47/50\n",
      "\u001b[1m81/81\u001b[0m \u001b[32m━━━━━━━━━━━━━━━━━━━━\u001b[0m\u001b[37m\u001b[0m \u001b[1m288s\u001b[0m 4s/step - accuracy: 0.9820 - loss: 0.0621 - val_accuracy: 0.5930 - val_loss: 2.4698\n",
      "Epoch 48/50\n",
      "\u001b[1m81/81\u001b[0m \u001b[32m━━━━━━━━━━━━━━━━━━━━\u001b[0m\u001b[37m\u001b[0m \u001b[1m286s\u001b[0m 4s/step - accuracy: 0.9730 - loss: 0.0823 - val_accuracy: 0.4737 - val_loss: 3.1109\n",
      "Epoch 49/50\n",
      "\u001b[1m81/81\u001b[0m \u001b[32m━━━━━━━━━━━━━━━━━━━━\u001b[0m\u001b[37m\u001b[0m \u001b[1m282s\u001b[0m 3s/step - accuracy: 0.9519 - loss: 0.1319 - val_accuracy: 0.5579 - val_loss: 3.0388\n",
      "Epoch 50/50\n",
      "\u001b[1m81/81\u001b[0m \u001b[32m━━━━━━━━━━━━━━━━━━━━\u001b[0m\u001b[37m\u001b[0m \u001b[1m276s\u001b[0m 3s/step - accuracy: 0.9424 - loss: 0.2235 - val_accuracy: 0.5018 - val_loss: 3.3731\n"
     ]
    }
   ],
   "source": [
    "# Define the model architecture\n",
    "model = tf.keras.models.Sequential([\n",
    "    base_model,\n",
    "    tf.keras.layers.Flatten(),\n",
    "    tf.keras.layers.BatchNormalization(),\n",
    "    tf.keras.layers.Dropout(0.5),  # Increased Dropout to reduce overfitting\n",
    "    tf.keras.layers.Dense(256, activation='relu', kernel_regularizer=tf.keras.regularizers.l2(0.001)),  # L2 regularization\n",
    "    tf.keras.layers.Dense(128, activation='relu'),\n",
    "    tf.keras.layers.Dense(len(class_names), activation='softmax')  # Output layer for classification\n",
    "])"
   ]
  },
  {
   "cell_type": "code",
   "execution_count": 62,
   "id": "7b20e4b8-f34d-485f-99c8-5f025457a7a5",
   "metadata": {
    "editable": true,
    "slideshow": {
     "slide_type": ""
    },
    "tags": []
   },
   "outputs": [
    {
     "name": "stdout",
     "output_type": "stream",
     "text": [
      "\u001b[1m12/12\u001b[0m \u001b[32m━━━━━━━━━━━━━━━━━━━━\u001b[0m\u001b[37m\u001b[0m \u001b[1m10s\u001b[0m 775ms/step - accuracy: 0.4866 - loss: 3.4633\n",
      "Test accuracy: 0.4903581142425537\n"
     ]
    }
   ],
   "source": [
    "# Compile the model with a reduced learning rate\n",
    "model.compile(optimizer=tf.keras.optimizers.Adam(learning_rate=1e-5),\n",
    "              loss='sparse_categorical_crossentropy',\n",
    "              metrics=['accuracy'])"
   ]
  },
  {
   "cell_type": "code",
   "execution_count": null,
   "id": "b0ed2b70-ec5f-492d-970e-0c5089df6459",
   "metadata": {},
   "outputs": [],
   "source": [
    "# Train the model\n",
    "history = model.fit(\n",
    "    train_data,\n",
    "    epochs=100,  # Increase the number of epochs\n",
    "    validation_data=validation_data\n",
    ")"
   ]
  },
  {
   "cell_type": "code",
   "execution_count": null,
   "id": "eb8c9214-805c-4e8d-9b1d-7234756f6afc",
   "metadata": {},
   "outputs": [],
   "source": [
    "# Evaluate the model on the test data\n",
    "test_loss, test_accuracy = model.evaluate(test_data)\n",
    "print(f'Test accuracy: {test_accuracy}')"
   ]
  },
  {
   "cell_type": "code",
   "execution_count": null,
   "id": "1630c484-8365-40cc-89fa-65fcab33be27",
   "metadata": {},
   "outputs": [],
   "source": [
    "# Plot accuracy and loss for training and validation\n",
    "plt.figure(figsize=(12, 4))"
   ]
  },
  {
   "cell_type": "code",
   "execution_count": null,
   "id": "8ff9829e-fb9b-45f9-bf50-56a5313c64ec",
   "metadata": {},
   "outputs": [],
   "source": [
    "# Accuracy plot\n",
    "plt.subplot(1, 2, 1)\n",
    "plt.plot(history.history['accuracy'], label='Train Accuracy')\n",
    "plt.plot(history.history['val_accuracy'], label='Validation Accuracy')\n",
    "plt.title('Accuracy over epochs')\n",
    "plt.xlabel('Epochs')\n",
    "plt.ylabel('Accuracy')\n",
    "plt.legend()"
   ]
  },
  {
   "cell_type": "code",
   "execution_count": null,
   "id": "58e2451a-98af-42e3-bd37-0c7e6e6bdb00",
   "metadata": {},
   "outputs": [],
   "source": [
    "# Loss plot\n",
    "plt.subplot(1, 2, 2)\n",
    "plt.plot(history.history['loss'], label='Train Loss')\n",
    "plt.plot(history.history['val_loss'], label='Validation Loss')\n",
    "plt.title('Loss over epochs')\n",
    "plt.xlabel('Epochs')\n",
    "plt.ylabel('Loss')\n",
    "plt.legend()"
   ]
  },
  {
   "cell_type": "code",
   "execution_count": null,
   "id": "891ca696-0c04-4f23-8f8b-ce558609b0df",
   "metadata": {},
   "outputs": [],
   "source": [
    "plt.show()"
   ]
  },
  {
   "cell_type": "code",
   "execution_count": 69,
   "id": "bcaaf712-f595-4c02-89f9-63ef081ac50f",
   "metadata": {},
   "outputs": [],
   "source": [
    "# Load and preprocess a test image\n",
    "image = cv2.imread('C:/Users/lasit/Desktop/Campus/4th year/1sem/DL/dl_assignment/amazonite_3.jpg')\n",
    "image = cv2.cvtColor(image, cv2.COLOR_BGR2RGB)  # Convert BGR to RGB\n",
    "resized_image = cv2.resize(image, IMAGE_SIZE)  # Resize to (256, 256)"
   ]
  },
  {
   "cell_type": "code",
   "execution_count": 71,
   "id": "268b4043-9910-49d9-9210-00648a8ea535",
   "metadata": {},
   "outputs": [],
   "source": [
    "# Normalize and expand dimensions\n",
    "scaled_image = resized_image / 255.0\n",
    "scaled_image = np.expand_dims(scaled_image, axis=0)"
   ]
  },
  {
   "cell_type": "code",
   "execution_count": 73,
   "id": "62036935-6be4-4cfd-b01b-3c14f466c6f5",
   "metadata": {},
   "outputs": [
    {
     "name": "stdout",
     "output_type": "stream",
     "text": [
      "\u001b[1m1/1\u001b[0m \u001b[32m━━━━━━━━━━━━━━━━━━━━\u001b[0m\u001b[37m\u001b[0m \u001b[1m4s\u001b[0m 4s/step\n"
     ]
    }
   ],
   "source": [
    "# Predict\n",
    "y_hat = model.predict(scaled_image)\n",
    "predicted_class_index = np.argmax(y_hat, axis=-1)"
   ]
  },
  {
   "cell_type": "code",
   "execution_count": 74,
   "id": "0241b9c1-a8fa-4703-a328-44f79c5b00e7",
   "metadata": {},
   "outputs": [
    {
     "name": "stdout",
     "output_type": "stream",
     "text": [
      "Predicted class: Tsavorite\n"
     ]
    }
   ],
   "source": [
    "# Print the predicted class\n",
    "print(f'Predicted class: {class_names[predicted_class_index[0]]}')"
   ]
  },
  {
   "cell_type": "code",
   "execution_count": null,
   "id": "a3ab87a2-b1f0-4793-8a48-c9d5b933a6e3",
   "metadata": {},
   "outputs": [],
   "source": []
  }
 ],
 "metadata": {
  "kernelspec": {
   "display_name": "Python 3 (ipykernel)",
   "language": "python",
   "name": "python3"
  },
  "language_info": {
   "codemirror_mode": {
    "name": "ipython",
    "version": 3
   },
   "file_extension": ".py",
   "mimetype": "text/x-python",
   "name": "python",
   "nbconvert_exporter": "python",
   "pygments_lexer": "ipython3",
   "version": "3.12.4"
  }
 },
 "nbformat": 4,
 "nbformat_minor": 5
}
